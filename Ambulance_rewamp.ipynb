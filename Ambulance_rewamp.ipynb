{
 "cells": [
  {
   "cell_type": "code",
   "execution_count": 2,
   "metadata": {},
   "outputs": [],
   "source": [
    "import matplotlib.pyplot as plt\n",
    "import numpy as np\n",
    "import networkx as nx\n",
    "import pandas as pd"
   ]
  },
  {
   "cell_type": "code",
   "execution_count": null,
   "metadata": {},
   "outputs": [],
   "source": [
    "#timestep = 0.5"
   ]
  },
  {
   "cell_type": "code",
   "execution_count": 367,
   "metadata": {},
   "outputs": [],
   "source": [
    "Distance = 2*np.array(\n",
    "[[1, 8,  12,  14,  10,  16],\n",
    "[8,  1,  6,  18,  16,  16],\n",
    "[12,  18,  1.5,  12,  6,  4],\n",
    "[16,  14,  4,  1,  16,  12],\n",
    "[18,  16,  10,  4,  2,  2],\n",
    "[16,  18,  4,  12,  2,  2]])\n",
    "G = nx.DiGraph()\n",
    "for i in range(len(Distance)):\n",
    "    G.add_edge(i+1,i+1,weight=Distance[i][i]) \n",
    "    for j in range(len(Distance[0])):\n",
    "           G.add_edge(i+1,j+1,weight=Distance[i][j]) "
   ]
  },
  {
   "cell_type": "code",
   "execution_count": 368,
   "metadata": {},
   "outputs": [],
   "source": [
    "def calculate_time(Distance,path):\n",
    "    pair = [[path[i]-1,path[i+1]-1] for i in range(len(path)-1)]\n",
    "    sum = 0\n",
    "    for i in pair:\n",
    "        sum+= Distance[i[0]][i[1]]\n",
    "    return sum"
   ]
  },
  {
   "cell_type": "code",
   "execution_count": 372,
   "metadata": {},
   "outputs": [],
   "source": [
    "def distance(city1,city2):\n",
    "    if (city1!=city2):\n",
    "        return calculate_time(Distance,nx.shortest_path(G,source=city1,target=city2, weight='weight'))\n",
    "    else:\n",
    "        return Distance[city1-1][city1-1]"
   ]
  },
  {
   "cell_type": "code",
   "execution_count": 373,
   "metadata": {},
   "outputs": [
    {
     "data": {
      "image/png": "[encoded data removed]",
      "text/plain": [
       "<Figure size 200x200 with 1 Axes>"
      ]
     },
     "metadata": {},
     "output_type": "display_data"
    }
   ],
   "source": [
    "Shortest_time = [[distance(i,j) for j in range(1,7)] for i in range(1,7)]\n",
    "Shortest_route = [[nx.shortest_path(G,source=i,target=j, weight='weight') for j in range(1,7)] for i in range(1,7)]\n",
    "# Create a sample 2D array\n",
    "data = np.array(Shortest_time)\n",
    "plt.figure(figsize=(2,2))\n",
    "# Display the image using imshow\n",
    "plt.imshow(data, cmap='summer')\n",
    "\n",
    "# Add annotations for each value in the array\n",
    "for i in range(data.shape[0]):\n",
    "    for j in range(data.shape[1]):\n",
    "        plt.annotate(str(int(data[i, j])), xy=(j, i), ha='center', va='center', color='black')\n",
    "\n",
    "# Show the plot\n",
    "plt.show()\n"
   ]
  },
  {
   "cell_type": "code",
   "execution_count": 534,
   "metadata": {},
   "outputs": [],
   "source": [
    "N = np.array([50000,80000,30000,55000,35000,20000])"
   ]
  },
  {
   "cell_type": "code",
   "execution_count": null,
   "metadata": {},
   "outputs": [],
   "source": []
  },
  {
   "cell_type": "code",
   "execution_count": 392,
   "metadata": {},
   "outputs": [],
   "source": [
    "def patient_gen(patient_list,P):\n",
    "    #P = prob array patient\n",
    "    P = np.array(P)\n",
    "    tmp_r = np.random.random((1,6))\n",
    "    return  np.vstack((patient_list,np.where(tmp_r < P, 1, 0)))"
   ]
  },
  {
   "cell_type": "code",
   "execution_count": 557,
   "metadata": {},
   "outputs": [],
   "source": [
    "def time_cal(position,destination): #destination 0-5\n",
    "    position = np.array(position)\n",
    "    if (np.any(position < 0)):\n",
    "        a = np.where(position==1)[0][0]\n",
    "        b = np.where(position==-1)[0][0]\n",
    "        d1 = Shortest_time[a][destination]+position[-1]\n",
    "        #Side note: if b = destination -> shortest_time[b][destination] must be zero\n",
    "        d2 = Shortest_time[b][destination]*(b!=destination) + (Shortest_time[a][b] - position[-1])\n",
    "        return [d1,d2]\n",
    "    else :\n",
    "        return [Shortest_time[np.where(position==1)[0][0]][destination]]\n",
    "        #stationary \n",
    "        "
   ]
  },
  {
   "cell_type": "code",
   "execution_count": 175,
   "metadata": {},
   "outputs": [
    {
     "data": {
      "text/plain": [
       "1"
      ]
     },
     "execution_count": 175,
     "metadata": {},
     "output_type": "execute_result"
    }
   ],
   "source": [
    "list = np.array([1,2,3,1])\n",
    "np.min(list)"
   ]
  },
  {
   "cell_type": "code",
   "execution_count": 177,
   "metadata": {},
   "outputs": [
    {
     "data": {
      "text/plain": [
       "(array([3, 4]),)"
      ]
     },
     "execution_count": 177,
     "metadata": {},
     "output_type": "execute_result"
    }
   ],
   "source": [
    "filter = np.array([1,2,4,0,0])\n",
    "np.where(filter == np.min(filter))"
   ]
  },
  {
   "cell_type": "code",
   "execution_count": 566,
   "metadata": {},
   "outputs": [],
   "source": [
    "#rewamp model\n",
    "class ambulance():\n",
    "    def __init__(self,initial_position): #initial_position: 0 to 5\n",
    "        self.position = np.zeros((1,7))[0]; self.position[initial_position] = 1 \n",
    "        #(0,1,0,0,0,0,0) -> ambulance in zone 2\n",
    "        #(0,1,0,0,0,0,1) -> ambulance in zone 2 going into zone 2\n",
    "        #(0,1,-1,0,0,0,1) -> ambulance travel from zone 2 to 3 and travel for 1 min from 2\n",
    "        self.station = initial_position\n",
    "        self.time = 0\n",
    "        self.status = 0\n",
    "        self.patient = -1 #free\n",
    "        self.t_mark = -1\n",
    "        self.count = 0\n",
    "        self.route = [initial_position+1] #checklist for traveling\n",
    "    def update(self,patient_list):\n",
    "        #status 0 = find patient stay at the station; status 1 = traveling to carry patient (+time sending patient to the hospital);\n",
    "        #status 2 = coming back to the station\n",
    "        #find patient from current location\n",
    "        if (self.status == 0):\n",
    "            \n",
    "            #scroll down from w: self.time -> self.time - 16\n",
    "            patient_select = patient_list.copy()[max(0,self.time-15):self.time+1] \n",
    "            l = len(patient_select)\n",
    "            position = np.where(self.position==1)[0][0]\n",
    "            self.route = [position+1]\n",
    "            for n,i in enumerate(patient_select):\n",
    "                #if see at least one satisfying condition -> break loop\n",
    "                tmp = []\n",
    "                for j in range(6):\n",
    "                    if (len(patient_select)-n-1 + min(time_cal(self.position,j)) <= 8 and i[j]!=0): #not include extra time\n",
    "                        tmp.append(j)\n",
    "                \n",
    "                if (len(tmp)!=0):\n",
    "                    self.t_mark = self.time + n-len(patient_select)+1;\n",
    "                    #choose the minimum time among time_cal(position,j) j in tmp\n",
    "                    filter = np.array([min(time_cal(self.position,j)) for j in tmp])\n",
    "                    self.patient = tmp[np.random.choice(np.where(filter == np.min(filter))[0])]\n",
    "                    self.route = Shortest_route[position][self.patient] #route is indexed by 1-6\n",
    "                    #initialize position\n",
    "                    \n",
    "                    if (len(self.route) != 1):\n",
    "                        self.position =  np.zeros((1,7))[0]; self.position[self.route[0]-1] = 1; self.position[self.route[1]-1] = -1; \n",
    "                        self.position[6] = Shortest_time[self.route[0]-1][self.route[1]-1]\n",
    "                    self.status = 1\n",
    "                    patient_list[self.t_mark][self.patient] = 0\n",
    "                    self.route = np.delete(self.route.copy(),0)\n",
    "                    break\n",
    "        elif (self.status == 1):\n",
    "            #traveling time\n",
    "            if (self.position[6]==0):\n",
    "                if (len(self.route)==1):\n",
    "                    #arrived/buffer hospital time\n",
    "                     self.position =  np.zeros((1,7))[0]; self.position[self.route[0]-1] = 1; \n",
    "                     self.position[6] = Shortest_time[self.route[0]-1][self.route[0]-1]\n",
    "                     self.route = np.delete(self.route.copy(),0)\n",
    "                elif (len(self.route)>1):\n",
    "                    self.position[self.route[0]-1] = 1\n",
    "                    self.position[self.route[1]-1] = -1 #Next destination\n",
    "                    self.position[6] = Shortest_time[self.route[0]-1][self.route[1]-1]\n",
    "                    self.route = np.delete(self.route.copy(),0)\n",
    "                else:\n",
    "                    position = np.where(self.position==1)[0][0]\n",
    "                    #finish clearing patient\n",
    "                    \n",
    "                    self.count += 1\n",
    "                    self.patient = -1\n",
    "                    t_mark = -1\n",
    "                    self.status = 2 #change to 2\n",
    "                    \n",
    "                    position = np.where(self.position.copy()==1)[0][0]\n",
    "                    if (position == self.station):\n",
    "                        self.status = 0\n",
    "                    else:\n",
    "                        self.route = Shortest_route[position][self.station]\n",
    "                        self.position = np.zeros((1,7))[0]\n",
    "                        self.position[position] = 1\n",
    "                        self.position[self.route[1]-1]=-1\n",
    "                        self.position[6] = Shortest_time[self.route[0]-1][self.route[1]-1]\n",
    "                        self.route = np.delete(self.route.copy(),0)\n",
    "            else:\n",
    "                self.position[6]-=1\n",
    "        else:\n",
    "            \n",
    "            if (self.position[6]==0):\n",
    "                \n",
    "                if (len(self.route)==1):\n",
    "                    #arrived/buffer hospital time\n",
    "                     self.position =  np.zeros((1,7))[0]; self.position[self.route[0]-1] = 1; \n",
    "                     self.position[6] = Shortest_time[self.route[0]-1][self.route[0]-1]\n",
    "                     #self.route = np.delete(self.route.copy(),0)\n",
    "                elif (len(self.route)>1):\n",
    "                    self.position[self.route[0]-1] = 1\n",
    "                    self.position[self.route[1]-1] = -1 #Next destination\n",
    "                    self.position[6] = Shortest_time[self.route[0]-1][self.route[1]-1]\n",
    "                    self.route = np.delete(self.route.copy(),0)\n",
    "                else:\n",
    "                    self.status = 0 \n",
    "            else:\n",
    "                #find additional patient\n",
    "                patient_select = patient_list.copy()[max(0,self.time-15):self.time+1] \n",
    "                l = len(patient_select)\n",
    "                position = np.where(self.position==1)[0][0]\n",
    "                for n,i in enumerate(patient_select):\n",
    "                    #if see at least one satisfying condition -> break loop\n",
    "                    tmp = []\n",
    "                    for j in range(6):\n",
    "                        if (len(patient_select)-n-1 + min(time_cal(self.position,j)) <= 8 and i[j]!=0): #not include extra time\n",
    "                            tmp.append(j)\n",
    "                    \n",
    "                    if (len(tmp)!=0):\n",
    "                        next = self.route[0] - 1\n",
    "                        \n",
    "                        self.t_mark = self.time + n-len(patient_select)+1;\n",
    "                        #choose the minimum time among time_cal(position,j) j in tmp\n",
    "                        filter = np.array([min(time_cal(self.position,j)) for j in tmp])\n",
    "                        self.patient = tmp[np.random.choice(np.where(filter == np.min(filter))[0])]\n",
    "                        tmp2 = np.argmin(time_cal(self.position,self.patient))\n",
    "                        patient_list[self.t_mark][self.patient] = 0\n",
    "                        if (tmp2 == 0): #go back to city index (1)\n",
    "                            self.route = Shortest_route[position][self.patient]\n",
    "                            #Same self.position\n",
    "                        else:  #go back to city index (-1)\n",
    "                            self.route = Shortest_route[next][self.patient]\n",
    "                            self.position = -self.position.copy(); self.position[6]*=-1\n",
    "                            #reverse state\n",
    "                        self.status = 1\n",
    "                        break\n",
    "                    \n",
    "                #else\n",
    "                self.position[6]-=1\n",
    "        self.time+=1\n",
    "        "
   ]
  },
  {
   "cell_type": "code",
   "execution_count": 573,
   "metadata": {
    "collapsed": true,
    "jupyter": {
     "outputs_hidden": true
    },
    "scrolled": true
   },
   "outputs": [
    {
     "name": "stdout",
     "output_type": "stream",
     "text": [
      "Iteration  2879  Minute  1439.5  Hour  23.991666666666667\r"
     ]
    }
   ],
   "source": [
    "c1 = ambulance(0)\n",
    "c2 = ambulance(1)\n",
    "patient_list = np.zeros((1,6))[0]\n",
    "count_list = []\n",
    "position_list = []\n",
    "status_list = []\n",
    "for i in range(2880):\n",
    "    \n",
    "    print(\"Iteration \",i,\" Minute \",i/2,\" Hour \", i/120,end=\"\\r\")\n",
    "    patient_list = patient_gen(patient_list, [0.017,0.017,0.017,0.017,0.017,0.017])\n",
    "    c1.update(patient_list)\n",
    "    c2.update(patient_list)\n",
    "    position_list.append(np.array([np.where(c1.position==1)[0][0],np.where(c2.position==1)[0][0]]))\n",
    "    count_list.append(np.array([c1.count,c2.count]))\n",
    "    status_list.append(np.array([c1.status,c2.status]))\n",
    "    "
   ]
  },
  {
   "cell_type": "code",
   "execution_count": 574,
   "metadata": {},
   "outputs": [
    {
     "data": {
      "text/plain": [
       "[<matplotlib.lines.Line2D at 0x7fa2903dd300>]"
      ]
     },
     "execution_count": 574,
     "metadata": {},
     "output_type": "execute_result"
    },
    {
     "data": {
      "image/png": "[encoded data removed]",
      "text/plain": [
       "<Figure size 640x480 with 1 Axes>"
      ]
     },
     "metadata": {},
     "output_type": "display_data"
    }
   ],
   "source": [
    "A = count_list\n",
    "plt.plot(np.array(A)[:,0])\n",
    "plt.plot(np.array(A)[:,1])"
   ]
  }
 ],
 "metadata": {
  "kernelspec": {
   "display_name": "Python 3 (ipykernel)",
   "language": "python",
   "name": "python3"
  },
  "language_info": {
   "codemirror_mode": {
    "name": "ipython",
    "version": 3
   },
   "file_extension": ".py",
   "mimetype": "text/x-python",
   "name": "python",
   "nbconvert_exporter": "python",
   "pygments_lexer": "ipython3",
   "version": "3.10.6"
  }
 },
 "nbformat": 4,
 "nbformat_minor": 4
}
